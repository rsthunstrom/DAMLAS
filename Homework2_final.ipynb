{
 "cells": [
  {
   "cell_type": "markdown",
   "metadata": {},
   "source": [
    "###HW2.0:\n",
    "How do you merge  two sorted  lists/arrays of records of the form [key, value]? Where is this  used in Hadoop MapReduce? [Hint within the shuffle]\n",
    "What is  a combiner function in the context of Hadoop? \n",
    "Give an example where it can be used and justify why it should be used in the context of this problem.\n",
    "What is the Hadoop shuffle?"
   ]
  },
  {
   "cell_type": "markdown",
   "metadata": {},
   "source": [
    "If this lists are pre-sorted, you can loop through each list and identify which value at the 0 position is smallest.  Then once you have identified that, you return the value, pop off the position and move the pointer.  This process is now repeated with the pointer of the list that returned a value at the next placement.  This process is repeated until all positions have been returned.  This is used when hadoop sends data from the mappers to the reducers.\n",
    "\n",
    "A combiner is used to combine all of the information from the mappers before they are released to the reducers.  This is used as a barrier before the reducers can run to ensure that all the information has been collected before reducer tasks are started.\n",
    "\n",
    "If different information is located on more than 1 mapper, we need to make sure that all of the information is sorted together before it's sent to the reducer.  For example, say that all the last names from Minnesota are in mapper 1, and all last names from Wisconsin are in Mapper 2, we need to sort both lists in the combiner to get the global sort for all records in both mappers.\n",
    "\n",
    "Hadoop shuffle is the process of gathering data from mappers, sorting it, and sending it to the reducer."
   ]
  },
  {
   "cell_type": "markdown",
   "metadata": {},
   "source": [
    "###HW2.1: Counters as a debugging aid (and for getting work done, but please use sparingly as they are heavy)\n",
    "\n",
    "Consumer complaints dataset: Use Counters to do EDA (exploratory data analysis and to monitor progress)\n",
    "Counters are lightweight objects in Hadoop that allow you to keep track of system progress in both the map and reduce stages of processing. By default, Hadoop defines a number of standard counters in \"groups\"; these show up in the jobtracker webapp, giving you information such as \"Map input records\", \"Map output records\", etc. \n",
    "\n",
    "While processing information/data using MapReduce job, it is a challenge to monitor the progress of parallel threads running across nodes of distributed clusters. Moreover, it is also complicated to distinguish between the data that has been processed and the data which is yet to be processed. The MapReduce Framework offers a provision of user-defined Counters, which can be effectively utilized to monitor the progress of data across nodes of distributed clusters.\n",
    "\n",
    "Use the Consumer Complaints  Dataset provide here to complete this question:\n",
    "\n",
    "     https://www.dropbox.com/s/vbalm3yva2rr86m/Consumer_Complaints.csv?dl=0\n",
    "\n",
    "Use the following command to grab the file:\n",
    "\n",
    "    curl -L https://www.dropbox.com/s/vbalm3yva2rr86m/Consumer_Complaints.csv?dl=0 -o Consumer_Complaints.csv\n",
    "\n",
    "The consumer complaints dataset consists of diverse consumer complaints, which have been reported across the United States regarding various types of loans. The dataset consists of records of the form:\n",
    "\n",
    "Complaint ID,Product,Sub-product,Issue,Sub-issue,State,ZIP code,Submitted via,Date received,Date sent to company,Company,Company response,Timely response?,Consumer disputed?\n",
    "\n",
    "Here’s is the first few lines of the  of the Consumer Complaints  Dataset:\n",
    "\n",
    "Complaint ID,Product,Sub-product,Issue,Sub-issue,State,ZIP code,Submitted via,Date received,Date sent to company,Company,Company response,Timely response?,Consumer disputed?\n",
    "1114245,Debt collection,Medical,Disclosure verification of debt,Not given enough info to verify debt,FL,32219,Web,11/13/2014,11/13/2014,\"Choice Recovery, Inc.\",Closed with explanation,Yes,\n",
    "1114488,Debt collection,Medical,Disclosure verification of debt,Right to dispute notice not received,TX,75006,Web,11/13/2014,11/13/2014,\"Expert Global Solutions, Inc.\",In progress,Yes,\n",
    "1114255,Bank account or service,Checking account,Deposits and withdrawals,,NY,11102,Web,11/13/2014,11/13/2014,\"FNIS (Fidelity National Information Services, Inc.)\",In progress,Yes,\n",
    "1115106,Debt collection,\"Other (phone, health club, etc.)\",Communication tactics,Frequent or repeated calls,GA,31721,Web,11/13/2014,11/13/2014,\"Expert Global Solutions, Inc.\",In progress,Yes,\n",
    "\n",
    "User-defined Counters\n",
    "\n",
    "Now, let’s use MapReduce Counters to identify the number of complaints pertaining to debt collection, mortgage and other categories (all other categories get lumped into this one) in the consumer complaints dataset. Basically produce the distribution of the Product column in this dataset using counters (limited to 3 counters here).\n",
    "\n",
    "Hadoop offers Job Tracker, an UI tool to determine the status and statistics of all jobs. Using the job tracker UI, developers can view the Counters that have been created. Screenshot your  job tracker UI as your job completes and include it here. Make sure that your user defined counters are visible. \n"
   ]
  },
  {
   "cell_type": "code",
   "execution_count": 1,
   "metadata": {
    "collapsed": false
   },
   "outputs": [
    {
     "name": "stdout",
     "output_type": "stream",
     "text": [
      "  % Total    % Received % Xferd  Average Speed   Time    Time     Time  Current\n",
      "                                 Dload  Upload   Total   Spent    Left  Speed\n",
      "  0     0    0     0    0     0      0      0 --:--:--  0:00:01 --:--:--     0\n",
      "100 48.5M  100 48.5M    0     0  1324k      0  0:00:37  0:00:37 --:--:-- 1560k\n"
     ]
    }
   ],
   "source": [
    "!curl -L https://www.dropbox.com/s/vbalm3yva2rr86m/Consumer_Complaints.csv?dl=0 > Consumer_Complaints.csv"
   ]
  },
  {
   "cell_type": "code",
   "execution_count": 2,
   "metadata": {
    "collapsed": false
   },
   "outputs": [
    {
     "name": "stdout",
     "output_type": "stream",
     "text": [
      "Complaint ID,Product,Sub-product,Issue,Sub-issue,State,ZIP code,Submitted via,Date received,Date sent to company,Company,Company response,Timely response?,Consumer disputed?\r\n",
      "1114245,Debt collection,Medical,Disclosure verification of debt,Not given enough info to verify debt,FL,32219,Web,11/13/2014,11/13/2014,\"Choice Recovery, Inc.\",Closed with explanation,Yes,\r\n",
      "1114488,Debt collection,Medical,Disclosure verification of debt,Right to dispute notice not received,TX,75006,Web,11/13/2014,11/13/2014,\"Expert Global Solutions, Inc.\",In progress,Yes,\r\n",
      "1114255,Bank account or service,Checking account,Deposits and withdrawals,,NY,11102,Web,11/13/2014,11/13/2014,\"FNIS (Fidelity National Information Services, Inc.)\",In progress,Yes,\r\n",
      "1115106,Debt collection,\"Other (phone, health club, etc.)\",Communication tactics,Frequent or repeated calls,GA,31721,Web,11/13/2014,11/13/2014,\"Expert Global Solutions, Inc.\",In progress,Yes,\r\n",
      "1115890,Credit reporting,,Incorrect information on credit report,Information is not mine,FL,33461,Web,11/12/2014,11/13/2014,TransUnion,In progress,Yes,\r\n",
      "1114180,Debt collection,Credit card,Cont'd attempts collect debt not owed,Debt is not mine,CA,95035,Web,11/12/2014,11/13/2014,\"Expert Global Solutions, Inc.\",In progress,Yes,\r\n",
      "1114124,Consumer loan,Vehicle loan,Managing the loan or lease,,MI,48430,Fax,11/12/2014,11/13/2014,Ally Financial Inc.,In progress,Yes,\r\n",
      "1113211,Debt collection,Credit card,False statements or representation,Indicated committed crime not paying,MS,39056,Web,11/12/2014,11/12/2014,\"Premium Asset Services, LLC\",In progress,Yes,\r\n",
      "1112443,Consumer loan,Installment loan,Managing the loan or lease,,CA,94509,Web,11/12/2014,11/12/2014,Ally Financial Inc.,In progress,Yes,\r\n"
     ]
    }
   ],
   "source": [
    "!head Consumer_Complaints.csv"
   ]
  },
  {
   "cell_type": "code",
   "execution_count": 7,
   "metadata": {
    "collapsed": false
   },
   "outputs": [
    {
     "name": "stdout",
     "output_type": "stream",
     "text": [
      "Overwriting mr_wc_counter.py\n"
     ]
    }
   ],
   "source": [
    "%%writefile mr_wc_counter.py\n",
    "from mrjob.job import MRJob\n",
    "from mrjob.step import MRStep\n",
    "import re\n",
    " \n",
    "\n",
    "WORD_RE = re.compile(r\"[\\w']+\")\n",
    " \n",
    "class MRWordFreqCount(MRJob):\n",
    "    def mapper(self, _, line):\n",
    "        line = line.strip().lower().split(\",\")\n",
    "        category = line[1]\n",
    "        if category != 'product':\n",
    "            if category in ['debt collection', 'mortgage']:\n",
    "                self.increment_counter('Product Type', category, 1)\n",
    "            else:\n",
    "                self.increment_counter('Product Type', 'other', 1)\n",
    "\n",
    "    #def reducer(self, category, counts):\n",
    "    #    self.increment_counter('group', 'Num_reducer_calls', 1)\n",
    "    #    if category == 'debt collection':\n",
    "    #        yield category, sum(counts)\n",
    "    #    elif category == 'mortgage':\n",
    "    #        yield category, sum(counts)\n",
    "    #    else:\n",
    "    #        yield category\n",
    "\n",
    "if __name__ == '__main__':\n",
    "    MRWordFreqCount.run()"
   ]
  },
  {
   "cell_type": "code",
   "execution_count": 8,
   "metadata": {
    "collapsed": false
   },
   "outputs": [
    {
     "name": "stdout",
     "output_type": "stream",
     "text": [
      "No configs found; falling back on auto-configuration\n",
      "Creating temp directory /var/folders/08/y_lkzc2n2973stvw32_hzr4h13s_fb/T/mr_wc_counter.z013nx1.20160706.174758.406218\n",
      "Running step 1 of 1...\n",
      "Counters: 3\n",
      "\tProduct Type\n",
      "\t\tdebt collection=44372\n",
      "\t\tmortgage=125752\n",
      "\t\tother=142788\n",
      "Streaming final output from /var/folders/08/y_lkzc2n2973stvw32_hzr4h13s_fb/T/mr_wc_counter.z013nx1.20160706.174758.406218/output...\n",
      "Removing temp directory /var/folders/08/y_lkzc2n2973stvw32_hzr4h13s_fb/T/mr_wc_counter.z013nx1.20160706.174758.406218...\n"
     ]
    }
   ],
   "source": [
    "!python mr_wc_counter.py Consumer_Complaints.csv"
   ]
  },
  {
   "cell_type": "code",
   "execution_count": 9,
   "metadata": {
    "collapsed": false
   },
   "outputs": [
    {
     "name": "stdout",
     "output_type": "stream",
     "text": [
      "[{'Product Type': {'debt collection': 44372, 'other': 142788, 'mortgage': 125752}}]\n"
     ]
    }
   ],
   "source": [
    "from mr_wc_counter import MRWordFreqCount\n",
    "mr_job = MRWordFreqCount(args=['Consumer_Complaints.csv'])\n",
    "with mr_job.make_runner() as runner: \n",
    "    runner.run()\n",
    "    # stream_output: get access of the output \n",
    "    print runner.counters()"
   ]
  },
  {
   "cell_type": "markdown",
   "metadata": {},
   "source": [
    "# HW2.2: Analyze the performance of your Mappers, Combiners and Reducers using Counters"
   ]
  },
  {
   "cell_type": "markdown",
   "metadata": {},
   "source": [
    "#### Perform a word count analysis of this single record dataset using a Mapper and Reducer based WordCount (i.e., no combiners are used here) using user defined Counters to count up how many time the mapper and reducer are called. What is the value of your user defined Mapper Counter, and Reducer Counter after completing this word count job. The answer  should be 1 and 4 respectively. Please explain."
   ]
  },
  {
   "cell_type": "code",
   "execution_count": 15,
   "metadata": {
    "collapsed": true
   },
   "outputs": [],
   "source": [
    "!echo foo foo quux labs foo bar quux > WordCount.txt"
   ]
  },
  {
   "cell_type": "code",
   "execution_count": 16,
   "metadata": {
    "collapsed": false
   },
   "outputs": [
    {
     "name": "stdout",
     "output_type": "stream",
     "text": [
      "Overwriting mr_wc_counter.py\n"
     ]
    }
   ],
   "source": [
    "%%writefile mr_wc_counter.py\n",
    "from mrjob.job import MRJob\n",
    "from mrjob.step import MRStep\n",
    "import re\n",
    " \n",
    "WORD_RE = re.compile(r\"[\\w']+\")\n",
    " \n",
    "class MRWordFreqCount(MRJob):\n",
    "    def mapper(self, _, line):\n",
    "        self.increment_counter('group', 'Num_mapper_calls', 1)\n",
    "        for word in WORD_RE.findall(line):\n",
    "            yield word.lower(), 1\n",
    "\n",
    "    def reducer(self, word, counts):\n",
    "        self.increment_counter('group', 'Num_reducer_calls', 1)\n",
    "        yield word, sum(counts)\n",
    "\n",
    "if __name__ == '__main__':\n",
    "    MRWordFreqCount.run()"
   ]
  },
  {
   "cell_type": "code",
   "execution_count": 18,
   "metadata": {
    "collapsed": false
   },
   "outputs": [
    {
     "name": "stdout",
     "output_type": "stream",
     "text": [
      "No configs found; falling back on auto-configuration\r\n",
      "Creating temp directory /var/folders/08/y_lkzc2n2973stvw32_hzr4h13s_fb/T/mr_wc_counter.z013nx1.20160706.175715.251281\r\n",
      "Running step 1 of 1...\r\n",
      "Counters: 1\r\n",
      "\tgroup\r\n",
      "\t\tNum_mapper_calls=1\r\n",
      "Counters: 2\r\n",
      "\tgroup\r\n",
      "\t\tNum_mapper_calls=1\r\n",
      "\t\tNum_reducer_calls=4\r\n",
      "Streaming final output from /var/folders/08/y_lkzc2n2973stvw32_hzr4h13s_fb/T/mr_wc_counter.z013nx1.20160706.175715.251281/output...\r\n",
      "\"bar\"\t1\r\n",
      "\"foo\"\t3\r\n",
      "\"labs\"\t1\r\n",
      "\"quux\"\t2\r\n",
      "Removing temp directory /var/folders/08/y_lkzc2n2973stvw32_hzr4h13s_fb/T/mr_wc_counter.z013nx1.20160706.175715.251281...\r\n"
     ]
    }
   ],
   "source": [
    "!python mr_wc_counter.py WordCount.txt"
   ]
  },
  {
   "cell_type": "markdown",
   "metadata": {},
   "source": [
    "Mapper Counter = 1 and Reducer Count = 4.  1 map task to get all of the global counts and 4 reduce tasks for the 4 distinct words."
   ]
  },
  {
   "cell_type": "markdown",
   "metadata": {},
   "source": [
    "#### Perform a word count analysis of the Issue column of the Consumer Complaints  Dataset using a Mapper and Reducer based WordCount (i.e., no combiners used anywhere)  using user defined Counters to count up how many times the mapper and reducer are called. What is the value of your user defined Mapper Counter, and Reducer Counter after completing your word count job. "
   ]
  },
  {
   "cell_type": "code",
   "execution_count": 51,
   "metadata": {
    "collapsed": false
   },
   "outputs": [
    {
     "name": "stdout",
     "output_type": "stream",
     "text": [
      "Overwriting mr_wc_counter2.py\n"
     ]
    }
   ],
   "source": [
    "%%writefile mr_wc_counter2.py\n",
    "from mrjob.job import MRJob\n",
    "from mrjob.step import MRStep\n",
    "import re\n",
    " \n",
    "\n",
    "WORD_RE = re.compile(r\"[\\w']+\")\n",
    " \n",
    "class MRWordFreqCount(MRJob):\n",
    "    def mapper(self, _, line):\n",
    "        self.increment_counter('group', 'Num_mapper_calls', 1)\n",
    "        line = line.strip().lower().split(\",\")\n",
    "        category = line[3]\n",
    "        words = category.split(\" \")\n",
    "        if words != 'issue':\n",
    "            for word in words:\n",
    "                yield word, 1\n",
    "\n",
    "    def reducer(self, word, counts):\n",
    "        self.increment_counter('group', 'Num_reducer_calls', 1)\n",
    "        yield word, sum(counts)\n",
    "\n",
    "if __name__ == '__main__':\n",
    "    MRWordFreqCount.run()"
   ]
  },
  {
   "cell_type": "code",
   "execution_count": 52,
   "metadata": {
    "collapsed": false
   },
   "outputs": [
    {
     "name": "stdout",
     "output_type": "stream",
     "text": [
      "No configs found; falling back on auto-configuration\n",
      "Creating temp directory /var/folders/08/y_lkzc2n2973stvw32_hzr4h13s_fb/T/mr_wc_counter2.z013nx1.20160706.183125.566862\n",
      "Running step 1 of 1...\n",
      "Counters: 1\n",
      "\tgroup\n",
      "\t\tNum_mapper_calls=312913\n",
      "Counters: 2\n",
      "\tgroup\n",
      "\t\tNum_mapper_calls=312913\n",
      "\t\tNum_reducer_calls=172\n",
      "Streaming final output from /var/folders/08/y_lkzc2n2973stvw32_hzr4h13s_fb/T/mr_wc_counter2.z013nx1.20160706.183125.566862/output...\n",
      "\"\"\t12549\n",
      "\"/\"\t12386\n",
      "\"\\\"account\"\t16205\n",
      "\"\\\"application\"\t8625\n",
      "\"\\\"loan\"\t107254\n",
      "\"\\\"making/receiving\"\t3226\n",
      "\"a\"\t3503\n",
      "\"account\"\t4476\n",
      "\"acct\"\t163\n",
      "\"action\"\t2505\n",
      "\"advance\"\t240\n",
      "\"advertising\"\t1193\n",
      "\"amount\"\t98\n",
      "\"amt\"\t71\n",
      "\"an\"\t2505\n",
      "\"and\"\t16448\n",
      "\"application\"\t243\n",
      "\"applied\"\t139\n",
      "\"apply\"\t118\n",
      "\"apr\"\t3431\n",
      "\"arbitration\"\t168\n",
      "\"are\"\t3821\n",
      "\"atm\"\t2422\n",
      "\"attempts\"\t11848\n",
      "\"available\"\t274\n",
      "\"balance\"\t597\n",
      "\"bank\"\t202\n",
      "\"bankruptcy\"\t222\n",
      "\"being\"\t5663\n",
      "\"billing\"\t8158\n",
      "\"by\"\t5663\n",
      "\"can't\"\t1999\n",
      "\"card\"\t4405\n",
      "\"cash\"\t240\n",
      "\"caused\"\t5663\n",
      "\"changes\"\t350\n",
      "\"charged\"\t976\n",
      "\"charges\"\t131\n",
      "\"checks\"\t75\n",
      "\"closing/cancelling\"\t2795\n",
      "\"club\"\t12545\n",
      "\"collect\"\t11848\n",
      "\"collection\"\t1907\n",
      "\"communication\"\t6920\n",
      "\"company's\"\t4858\n",
      "\"cont'd\"\t11848\n",
      "\"contact\"\t3053\n",
      "\"convenience\"\t75\n",
      "\"costs\"\t4350\n",
      "\"credit\"\t50894\n",
      "\"credited\"\t92\n",
      "\"customer\"\t2734\n",
      "\"day\"\t71\n",
      "\"dealing\"\t1944\n",
      "\"debit\"\t2422\n",
      "\"debt\"\t19309\n",
      "\"decision\"\t2774\n",
      "\"delay\"\t243\n",
      "\"delinquent\"\t1061\n",
      "\"deposits\"\t10555\n",
      "\"determination\"\t1490\n",
      "\"didn't\"\t925\n",
      "\"disclosure\"\t5214\n",
      "\"disclosures\"\t64\n",
      "\"dispute\"\t904\n",
      "\"disputes\"\t6938\n",
      "\"embezzlement\"\t3276\n",
      "\"expect\"\t807\n",
      "\"false\"\t2508\n",
      "\"fee\"\t3198\n",
      "\"fees\"\t807\n",
      "\"for\"\t929\n",
      "\"forbearance\"\t350\n",
      "\"fraud\"\t3842\n",
      "\"funds\"\t5663\n",
      "\"get\"\t4357\n",
      "\"getting\"\t291\n",
      "\"health\"\t12545\n",
      "\"i\"\t925\n",
      "\"identity\"\t4729\n",
      "\"illegal\"\t2505\n",
      "\"improper\"\t4309\n",
      "\"incorrect\"\t29069\n",
      "\"incorrect/missing\"\t64\n",
      "\"increase/decrease\"\t1149\n",
      "\"info\"\t2896\n",
      "\"information\"\t29069\n",
      "\"interest\"\t4238\n",
      "\"investigation\"\t4858\n",
      "\"issuance\"\t640\n",
      "\"issue\"\t1099\n",
      "\"issues\"\t538\n",
      "\"late\"\t1797\n",
      "\"lease\"\t6337\n",
      "\"lender\"\t2165\n",
      "\"line\"\t1732\n",
      "\"loan\"\t12237\n",
      "\"loan/did\"\t139\n",
      "\"low\"\t5663\n",
      "\"managing\"\t5006\n",
      "\"marketing\"\t1193\n",
      "\"modification\"\t70487\n",
      "\"money\"\t413\n",
      "\"monitoring\"\t1453\n",
      "\"my\"\t10731\n",
      "\"not\"\t12353\n",
      "\"of\"\t10885\n",
      "\"on\"\t29069\n",
      "\"opening\"\t16205\n",
      "\"or\"\t22533\n",
      "\"other\"\t7886\n",
      "\"out\"\t1242\n",
      "\"overlimit\"\t127\n",
      "\"owed\"\t11848\n",
      "\"pay\"\t3821\n",
      "\"payment\"\t92\n",
      "\"payments\"\t3226\n",
      "\"payoff\"\t1155\n",
      "\"plans\"\t350\n",
      "\"practices\"\t1003\n",
      "\"privacy\"\t240\n",
      "\"problems\"\t9484\n",
      "\"process\"\t5505\n",
      "\"processing\"\t243\n",
      "\"promised\"\t274\n",
      "\"protection\"\t4139\n",
      "\"rate\"\t3431\n",
      "\"receive\"\t139\n",
      "\"received\"\t216\n",
      "\"relations\"\t1367\n",
      "\"repay\"\t1647\n",
      "\"repaying\"\t3844\n",
      "\"report\"\t30546\n",
      "\"report/credit\"\t4357\n",
      "\"reporting\"\t6559\n",
      "\"representation\"\t2508\n",
      "\"rewards\"\t1002\n",
      "\"sale\"\t139\n",
      "\"scam\"\t566\n",
      "\"score\"\t4357\n",
      "\"service\"\t1518\n",
      "\"servicer\"\t1944\n",
      "\"servicing\"\t36767\n",
      "\"settlement\"\t4350\n",
      "\"sharing\"\t2832\n",
      "\"shopping\"\t672\n",
      "\"statement\"\t1220\n",
      "\"statements\"\t2508\n",
      "\"stop\"\t131\n",
      "\"tactics\"\t6920\n",
      "\"taking\"\t1242\n",
      "\"taking/threatening\"\t2505\n",
      "\"terms\"\t350\n",
      "\"the\"\t6248\n",
      "\"theft\"\t3276\n",
      "\"to\"\t8401\n",
      "\"transaction\"\t1485\n",
      "\"transfer\"\t597\n",
      "\"unable\"\t8178\n",
      "\"underwriting\"\t2774\n",
      "\"unsolicited\"\t640\n",
      "\"use\"\t1477\n",
      "\"using\"\t2422\n",
      "\"verification\"\t5214\n",
      "\"was\"\t274\n",
      "\"when\"\t4095\n",
      "\"with\"\t1944\n",
      "\"withdrawals\"\t10555\n",
      "\"workout\"\t350\n",
      "\"wrong\"\t169\n",
      "\"you\"\t3821\n",
      "\"your\"\t3844\n",
      "Removing temp directory /var/folders/08/y_lkzc2n2973stvw32_hzr4h13s_fb/T/mr_wc_counter2.z013nx1.20160706.183125.566862...\n"
     ]
    }
   ],
   "source": [
    "!python mr_wc_counter2.py Consumer_Complaints.csv"
   ]
  },
  {
   "cell_type": "markdown",
   "metadata": {},
   "source": [
    "Number of mapper calls = 312, 913 and number of reducer calls = 172"
   ]
  },
  {
   "cell_type": "markdown",
   "metadata": {},
   "source": [
    "#### Perform a word count analysis of the Issue column of the Consumer Complaints  Dataset using a Mapper, Reducer, and standalone combiner (i.e., not an in-memory combiner) based WordCount using user defined Counters to count up how many time the mapper, combiner, reducer are called. What is the value of your user defined Mapper Counter, combiner counter, and Reducer Counter after completing your word count job."
   ]
  },
  {
   "cell_type": "code",
   "execution_count": 54,
   "metadata": {
    "collapsed": false
   },
   "outputs": [
    {
     "name": "stdout",
     "output_type": "stream",
     "text": [
      "Writing mr_wc_counter3.py\n"
     ]
    }
   ],
   "source": [
    "%%writefile mr_wc_counter3.py\n",
    "from mrjob.job import MRJob\n",
    "from mrjob.step import MRStep\n",
    "import re\n",
    " \n",
    "\n",
    "WORD_RE = re.compile(r\"[\\w']+\")\n",
    " \n",
    "class MRWordFreqCount(MRJob):\n",
    "    def mapper(self, _, line):\n",
    "        self.increment_counter('group', 'Num_mapper_calls', 1)\n",
    "        line = line.strip().lower().split(\",\")\n",
    "        category = line[3]\n",
    "        words = category.split(\" \")\n",
    "        if words != 'issue':\n",
    "            for word in words:\n",
    "                yield word, 1\n",
    "    def combiner(self, word, count):\n",
    "        self.increment_counter('group', 'Num_combiner_calls', 1)\n",
    "        yield word, sum(count)\n",
    "\n",
    "    def reducer(self, word, counts):\n",
    "        self.increment_counter('group', 'Num_reducer_calls', 1)\n",
    "        yield word, sum(counts)\n",
    "\n",
    "if __name__ == '__main__':\n",
    "    MRWordFreqCount.run()"
   ]
  },
  {
   "cell_type": "code",
   "execution_count": 55,
   "metadata": {
    "collapsed": false
   },
   "outputs": [
    {
     "name": "stdout",
     "output_type": "stream",
     "text": [
      "No configs found; falling back on auto-configuration\n",
      "Creating temp directory /var/folders/08/y_lkzc2n2973stvw32_hzr4h13s_fb/T/mr_wc_counter3.z013nx1.20160706.183503.838062\n",
      "Running step 1 of 1...\n",
      "Counters: 2\n",
      "\tgroup\n",
      "\t\tNum_combiner_calls=319\n",
      "\t\tNum_mapper_calls=312913\n",
      "Counters: 3\n",
      "\tgroup\n",
      "\t\tNum_combiner_calls=319\n",
      "\t\tNum_mapper_calls=312913\n",
      "\t\tNum_reducer_calls=172\n",
      "Streaming final output from /var/folders/08/y_lkzc2n2973stvw32_hzr4h13s_fb/T/mr_wc_counter3.z013nx1.20160706.183503.838062/output...\n",
      "\"\"\t12549\n",
      "\"/\"\t12386\n",
      "\"\\\"account\"\t16205\n",
      "\"\\\"application\"\t8625\n",
      "\"\\\"loan\"\t107254\n",
      "\"\\\"making/receiving\"\t3226\n",
      "\"a\"\t3503\n",
      "\"account\"\t4476\n",
      "\"acct\"\t163\n",
      "\"action\"\t2505\n",
      "\"advance\"\t240\n",
      "\"advertising\"\t1193\n",
      "\"amount\"\t98\n",
      "\"amt\"\t71\n",
      "\"an\"\t2505\n",
      "\"and\"\t16448\n",
      "\"application\"\t243\n",
      "\"applied\"\t139\n",
      "\"apply\"\t118\n",
      "\"apr\"\t3431\n",
      "\"arbitration\"\t168\n",
      "\"are\"\t3821\n",
      "\"atm\"\t2422\n",
      "\"attempts\"\t11848\n",
      "\"available\"\t274\n",
      "\"balance\"\t597\n",
      "\"bank\"\t202\n",
      "\"bankruptcy\"\t222\n",
      "\"being\"\t5663\n",
      "\"billing\"\t8158\n",
      "\"by\"\t5663\n",
      "\"can't\"\t1999\n",
      "\"card\"\t4405\n",
      "\"cash\"\t240\n",
      "\"caused\"\t5663\n",
      "\"changes\"\t350\n",
      "\"charged\"\t976\n",
      "\"charges\"\t131\n",
      "\"checks\"\t75\n",
      "\"closing/cancelling\"\t2795\n",
      "\"club\"\t12545\n",
      "\"collect\"\t11848\n",
      "\"collection\"\t1907\n",
      "\"communication\"\t6920\n",
      "\"company's\"\t4858\n",
      "\"cont'd\"\t11848\n",
      "\"contact\"\t3053\n",
      "\"convenience\"\t75\n",
      "\"costs\"\t4350\n",
      "\"credit\"\t50894\n",
      "\"credited\"\t92\n",
      "\"customer\"\t2734\n",
      "\"day\"\t71\n",
      "\"dealing\"\t1944\n",
      "\"debit\"\t2422\n",
      "\"debt\"\t19309\n",
      "\"decision\"\t2774\n",
      "\"delay\"\t243\n",
      "\"delinquent\"\t1061\n",
      "\"deposits\"\t10555\n",
      "\"determination\"\t1490\n",
      "\"didn't\"\t925\n",
      "\"disclosure\"\t5214\n",
      "\"disclosures\"\t64\n",
      "\"dispute\"\t904\n",
      "\"disputes\"\t6938\n",
      "\"embezzlement\"\t3276\n",
      "\"expect\"\t807\n",
      "\"false\"\t2508\n",
      "\"fee\"\t3198\n",
      "\"fees\"\t807\n",
      "\"for\"\t929\n",
      "\"forbearance\"\t350\n",
      "\"fraud\"\t3842\n",
      "\"funds\"\t5663\n",
      "\"get\"\t4357\n",
      "\"getting\"\t291\n",
      "\"health\"\t12545\n",
      "\"i\"\t925\n",
      "\"identity\"\t4729\n",
      "\"illegal\"\t2505\n",
      "\"improper\"\t4309\n",
      "\"incorrect\"\t29069\n",
      "\"incorrect/missing\"\t64\n",
      "\"increase/decrease\"\t1149\n",
      "\"info\"\t2896\n",
      "\"information\"\t29069\n",
      "\"interest\"\t4238\n",
      "\"investigation\"\t4858\n",
      "\"issuance\"\t640\n",
      "\"issue\"\t1099\n",
      "\"issues\"\t538\n",
      "\"late\"\t1797\n",
      "\"lease\"\t6337\n",
      "\"lender\"\t2165\n",
      "\"line\"\t1732\n",
      "\"loan\"\t12237\n",
      "\"loan/did\"\t139\n",
      "\"low\"\t5663\n",
      "\"managing\"\t5006\n",
      "\"marketing\"\t1193\n",
      "\"modification\"\t70487\n",
      "\"money\"\t413\n",
      "\"monitoring\"\t1453\n",
      "\"my\"\t10731\n",
      "\"not\"\t12353\n",
      "\"of\"\t10885\n",
      "\"on\"\t29069\n",
      "\"opening\"\t16205\n",
      "\"or\"\t22533\n",
      "\"other\"\t7886\n",
      "\"out\"\t1242\n",
      "\"overlimit\"\t127\n",
      "\"owed\"\t11848\n",
      "\"pay\"\t3821\n",
      "\"payment\"\t92\n",
      "\"payments\"\t3226\n",
      "\"payoff\"\t1155\n",
      "\"plans\"\t350\n",
      "\"practices\"\t1003\n",
      "\"privacy\"\t240\n",
      "\"problems\"\t9484\n",
      "\"process\"\t5505\n",
      "\"processing\"\t243\n",
      "\"promised\"\t274\n",
      "\"protection\"\t4139\n",
      "\"rate\"\t3431\n",
      "\"receive\"\t139\n",
      "\"received\"\t216\n",
      "\"relations\"\t1367\n",
      "\"repay\"\t1647\n",
      "\"repaying\"\t3844\n",
      "\"report\"\t30546\n",
      "\"report/credit\"\t4357\n",
      "\"reporting\"\t6559\n",
      "\"representation\"\t2508\n",
      "\"rewards\"\t1002\n",
      "\"sale\"\t139\n",
      "\"scam\"\t566\n",
      "\"score\"\t4357\n",
      "\"service\"\t1518\n",
      "\"servicer\"\t1944\n",
      "\"servicing\"\t36767\n",
      "\"settlement\"\t4350\n",
      "\"sharing\"\t2832\n",
      "\"shopping\"\t672\n",
      "\"statement\"\t1220\n",
      "\"statements\"\t2508\n",
      "\"stop\"\t131\n",
      "\"tactics\"\t6920\n",
      "\"taking\"\t1242\n",
      "\"taking/threatening\"\t2505\n",
      "\"terms\"\t350\n",
      "\"the\"\t6248\n",
      "\"theft\"\t3276\n",
      "\"to\"\t8401\n",
      "\"transaction\"\t1485\n",
      "\"transfer\"\t597\n",
      "\"unable\"\t8178\n",
      "\"underwriting\"\t2774\n",
      "\"unsolicited\"\t640\n",
      "\"use\"\t1477\n",
      "\"using\"\t2422\n",
      "\"verification\"\t5214\n",
      "\"was\"\t274\n",
      "\"when\"\t4095\n",
      "\"with\"\t1944\n",
      "\"withdrawals\"\t10555\n",
      "\"workout\"\t350\n",
      "\"wrong\"\t169\n",
      "\"you\"\t3821\n",
      "\"your\"\t3844\n",
      "Removing temp directory /var/folders/08/y_lkzc2n2973stvw32_hzr4h13s_fb/T/mr_wc_counter3.z013nx1.20160706.183503.838062...\n"
     ]
    }
   ],
   "source": [
    "!python mr_wc_counter3.py Consumer_Complaints.csv"
   ]
  },
  {
   "cell_type": "markdown",
   "metadata": {},
   "source": [
    "Number of mapper calls = 312, 913, number of combiner calls = 319 and number of reducer calls = 172"
   ]
  },
  {
   "cell_type": "markdown",
   "metadata": {},
   "source": [
    "### HW2.2.1: \n",
    "### Using a single reducer perform a sort of the words in decreasing order of word counts. Present the top 50 terms and their frequency. If there are ties please sort the tokens in alphanumeric/string order. Present bottom 10 tokens (least frequent items). \n",
    "\n",
    "HINT: You will need a second MRStep for the sort part. Step 1 will be the usual word count, while step 2 will be a sort step. Please use the Hadoop/MRJob framework to perform the sort. Please do NOT use any of the built-in sorts  from  python."
   ]
  },
  {
   "cell_type": "code",
   "execution_count": 135,
   "metadata": {
    "collapsed": false
   },
   "outputs": [
    {
     "name": "stdout",
     "output_type": "stream",
     "text": [
      "Overwriting mr_wc_counter4.py\n"
     ]
    }
   ],
   "source": [
    "%%writefile mr_wc_counter4.py\n",
    "from mrjob.job import MRJob\n",
    "from mrjob.step import MRStep\n",
    "import re\n",
    " \n",
    "\n",
    "WORD_RE = re.compile(r\"[\\w']+\")\n",
    " \n",
    "class MRWordFreqCount(MRJob):\n",
    "    def mapper(self, _, line):\n",
    "        self.increment_counter('group', 'Num_mapper_calls', 1)\n",
    "        line = line.strip().lower().split(\",\")\n",
    "        category = line[3]\n",
    "        words = category.split(\" \")\n",
    "        if words != 'issue':\n",
    "            for word in words:\n",
    "                yield word, 1\n",
    "    \n",
    "    def reducer(self, word, counts):\n",
    "        self.increment_counter('group', 'Num_reducer_calls', 1)\n",
    "        yield word, sum(counts)\n",
    "\n",
    "    def newmapper(self, key, value):\n",
    "        self.increment_counter('group', 'Num_mapper_calls', 1)\n",
    "        yield None, (value, key)\n",
    "    \n",
    "    def newreducer(self, key, values):\n",
    "        self.increment_counter('group', 'Num_reducer_calls', 1)\n",
    "        topfifty = []\n",
    "        bottomten = []\n",
    "        for count, word in values:\n",
    "            topfifty.append((count, word))\n",
    "            bottomten.append((count, word))\n",
    "            topfifty.sort()\n",
    "            bottomten.sort(reverse=True)\n",
    "            topfifty = topfifty[-50:]\n",
    "            bottomten = bottomten[-10:]\n",
    "            topfifty.sort(reverse=True)\n",
    "            bottomten.sort()\n",
    "            \n",
    "        for count, word in topfifty:\n",
    "            yield None, (count, word)\n",
    "        for count, word in bottomten:\n",
    "            yield None, (count, word)\n",
    "\n",
    "    def steps(self):\n",
    "        return [\n",
    "            MRStep(mapper=self.mapper,\n",
    "                  combiner=self.reducer,\n",
    "                  reducer=self.reducer),\n",
    "            MRStep(mapper=self.newmapper,\n",
    "                  combiner=self.newreducer,\n",
    "                  reducer=self.newreducer) ]\n",
    "    \n",
    "if __name__ == '__main__':\n",
    "    MRWordFreqCount.run()"
   ]
  },
  {
   "cell_type": "code",
   "execution_count": 136,
   "metadata": {
    "collapsed": false
   },
   "outputs": [
    {
     "name": "stdout",
     "output_type": "stream",
     "text": [
      "No configs found; falling back on auto-configuration\n",
      "Creating temp directory /var/folders/08/y_lkzc2n2973stvw32_hzr4h13s_fb/T/mr_wc_counter4.z013nx1.20160706.200734.941471\n",
      "Running step 1 of 2...\n",
      "Counters: 2\n",
      "\tgroup\n",
      "\t\tNum_mapper_calls=312913\n",
      "\t\tNum_reducer_calls=319\n",
      "Counters: 2\n",
      "\tgroup\n",
      "\t\tNum_mapper_calls=312913\n",
      "\t\tNum_reducer_calls=491\n",
      "Running step 2 of 2...\n",
      "Counters: 2\n",
      "\tgroup\n",
      "\t\tNum_mapper_calls=172\n",
      "\t\tNum_reducer_calls=2\n",
      "Counters: 2\n",
      "\tgroup\n",
      "\t\tNum_mapper_calls=172\n",
      "\t\tNum_reducer_calls=3\n",
      "Streaming final output from /var/folders/08/y_lkzc2n2973stvw32_hzr4h13s_fb/T/mr_wc_counter4.z013nx1.20160706.200734.941471/output...\n",
      "null\t[107254, \"\\\"loan\"]\n",
      "null\t[70487, \"modification\"]\n",
      "null\t[50894, \"credit\"]\n",
      "null\t[36767, \"servicing\"]\n",
      "null\t[30546, \"report\"]\n",
      "null\t[29069, \"on\"]\n",
      "null\t[29069, \"information\"]\n",
      "null\t[29069, \"incorrect\"]\n",
      "null\t[22533, \"or\"]\n",
      "null\t[19309, \"debt\"]\n",
      "null\t[16448, \"and\"]\n",
      "null\t[16205, \"opening\"]\n",
      "null\t[16205, \"\\\"account\"]\n",
      "null\t[12549, \"\"]\n",
      "null\t[12545, \"health\"]\n",
      "null\t[12545, \"club\"]\n",
      "null\t[12386, \"/\"]\n",
      "null\t[12353, \"not\"]\n",
      "null\t[12237, \"loan\"]\n",
      "null\t[11848, \"owed\"]\n",
      "null\t[11848, \"cont'd\"]\n",
      "null\t[11848, \"collect\"]\n",
      "null\t[11848, \"attempts\"]\n",
      "null\t[10885, \"of\"]\n",
      "null\t[10731, \"my\"]\n",
      "null\t[10555, \"withdrawals\"]\n",
      "null\t[10555, \"deposits\"]\n",
      "null\t[9484, \"problems\"]\n",
      "null\t[8625, \"\\\"application\"]\n",
      "null\t[8401, \"to\"]\n",
      "null\t[8178, \"unable\"]\n",
      "null\t[8158, \"billing\"]\n",
      "null\t[7886, \"other\"]\n",
      "null\t[6938, \"disputes\"]\n",
      "null\t[6920, \"tactics\"]\n",
      "null\t[6920, \"communication\"]\n",
      "null\t[6559, \"reporting\"]\n",
      "null\t[6337, \"lease\"]\n",
      "null\t[6248, \"the\"]\n",
      "null\t[5663, \"low\"]\n",
      "null\t[5663, \"funds\"]\n",
      "null\t[5663, \"caused\"]\n",
      "null\t[5663, \"by\"]\n",
      "null\t[5663, \"being\"]\n",
      "null\t[5505, \"process\"]\n",
      "null\t[5214, \"verification\"]\n",
      "null\t[5214, \"disclosure\"]\n",
      "null\t[5006, \"managing\"]\n",
      "null\t[4858, \"investigation\"]\n",
      "null\t[4858, \"company's\"]\n",
      "null\t[64, \"disclosures\"]\n",
      "null\t[64, \"incorrect/missing\"]\n",
      "null\t[71, \"amt\"]\n",
      "null\t[71, \"day\"]\n",
      "null\t[75, \"checks\"]\n",
      "null\t[75, \"convenience\"]\n",
      "null\t[92, \"credited\"]\n",
      "null\t[92, \"payment\"]\n",
      "null\t[98, \"amount\"]\n",
      "null\t[118, \"apply\"]\n",
      "Removing temp directory /var/folders/08/y_lkzc2n2973stvw32_hzr4h13s_fb/T/mr_wc_counter4.z013nx1.20160706.200734.941471...\n"
     ]
    }
   ],
   "source": [
    "!python mr_wc_counter4.py Consumer_Complaints.csv"
   ]
  },
  {
   "cell_type": "markdown",
   "metadata": {},
   "source": [
    "### HW2.2.2:   \n",
    "### Repeat HW2.2.1 using 3 reducers. Use the same code as in HW2.2.1  with just one modification \n",
    "to the command line: just add --jobconf mapred.reduce.tasks=3 as see presented here: \n",
    "\n",
    "    python HW2.2WordCount.py --jobconf mapred.reduce.tasks=3 oneLinerTextFile.txt\n",
    "\n",
    "Describe what you see. Is this correct?\n",
    "\n",
    "HW2.2.3: [Optional; we will cover this in class]  \n",
    "Solve the \"total sort\" issue in HW2.2.2. "
   ]
  },
  {
   "cell_type": "code",
   "execution_count": 137,
   "metadata": {
    "collapsed": false
   },
   "outputs": [
    {
     "name": "stdout",
     "output_type": "stream",
     "text": [
      "No configs found; falling back on auto-configuration\n",
      "Creating temp directory /var/folders/08/y_lkzc2n2973stvw32_hzr4h13s_fb/T/mr_wc_counter4.z013nx1.20160706.200806.544821\n",
      "Running step 1 of 2...\n",
      "Counters: 2\n",
      "\tgroup\n",
      "\t\tNum_mapper_calls=312913\n",
      "\t\tNum_reducer_calls=319\n",
      "Counters: 2\n",
      "\tgroup\n",
      "\t\tNum_mapper_calls=312913\n",
      "\t\tNum_reducer_calls=491\n",
      "Running step 2 of 2...\n",
      "Counters: 2\n",
      "\tgroup\n",
      "\t\tNum_mapper_calls=172\n",
      "\t\tNum_reducer_calls=3\n",
      "Counters: 2\n",
      "\tgroup\n",
      "\t\tNum_mapper_calls=172\n",
      "\t\tNum_reducer_calls=4\n",
      "Streaming final output from /var/folders/08/y_lkzc2n2973stvw32_hzr4h13s_fb/T/mr_wc_counter4.z013nx1.20160706.200806.544821/output...\n",
      "null\t[107254, \"\\\"loan\"]\n",
      "null\t[70487, \"modification\"]\n",
      "null\t[50894, \"credit\"]\n",
      "null\t[36767, \"servicing\"]\n",
      "null\t[30546, \"report\"]\n",
      "null\t[29069, \"on\"]\n",
      "null\t[29069, \"information\"]\n",
      "null\t[29069, \"incorrect\"]\n",
      "null\t[22533, \"or\"]\n",
      "null\t[19309, \"debt\"]\n",
      "null\t[16448, \"and\"]\n",
      "null\t[16205, \"opening\"]\n",
      "null\t[16205, \"\\\"account\"]\n",
      "null\t[12549, \"\"]\n",
      "null\t[12545, \"health\"]\n",
      "null\t[12545, \"club\"]\n",
      "null\t[12386, \"/\"]\n",
      "null\t[12353, \"not\"]\n",
      "null\t[12237, \"loan\"]\n",
      "null\t[11848, \"owed\"]\n",
      "null\t[11848, \"cont'd\"]\n",
      "null\t[11848, \"collect\"]\n",
      "null\t[11848, \"attempts\"]\n",
      "null\t[10885, \"of\"]\n",
      "null\t[10731, \"my\"]\n",
      "null\t[10555, \"withdrawals\"]\n",
      "null\t[10555, \"deposits\"]\n",
      "null\t[9484, \"problems\"]\n",
      "null\t[8625, \"\\\"application\"]\n",
      "null\t[8401, \"to\"]\n",
      "null\t[8178, \"unable\"]\n",
      "null\t[8158, \"billing\"]\n",
      "null\t[7886, \"other\"]\n",
      "null\t[6938, \"disputes\"]\n",
      "null\t[6920, \"tactics\"]\n",
      "null\t[6920, \"communication\"]\n",
      "null\t[6559, \"reporting\"]\n",
      "null\t[6337, \"lease\"]\n",
      "null\t[6248, \"the\"]\n",
      "null\t[5663, \"low\"]\n",
      "null\t[5663, \"funds\"]\n",
      "null\t[5663, \"caused\"]\n",
      "null\t[5663, \"by\"]\n",
      "null\t[5663, \"being\"]\n",
      "null\t[5505, \"process\"]\n",
      "null\t[5214, \"verification\"]\n",
      "null\t[5214, \"disclosure\"]\n",
      "null\t[5006, \"managing\"]\n",
      "null\t[4858, \"investigation\"]\n",
      "null\t[4858, \"company's\"]\n",
      "null\t[64, \"disclosures\"]\n",
      "null\t[64, \"incorrect/missing\"]\n",
      "null\t[71, \"amt\"]\n",
      "null\t[71, \"day\"]\n",
      "null\t[75, \"checks\"]\n",
      "null\t[75, \"convenience\"]\n",
      "null\t[92, \"credited\"]\n",
      "null\t[92, \"payment\"]\n",
      "null\t[98, \"amount\"]\n",
      "null\t[118, \"apply\"]\n",
      "Removing temp directory /var/folders/08/y_lkzc2n2973stvw32_hzr4h13s_fb/T/mr_wc_counter4.z013nx1.20160706.200806.544821...\n"
     ]
    }
   ],
   "source": [
    "!python mr_wc_counter4.py --jobconf mapred.reduce.tasks=3 Consumer_Complaints.csv"
   ]
  },
  {
   "cell_type": "markdown",
   "metadata": {},
   "source": [
    "When forcing the reducers to 3, it does 1 more reducer job in the first reducer then when it was left to one.  The total reducer count is 4 instead of 3 because of this"
   ]
  },
  {
   "cell_type": "markdown",
   "metadata": {},
   "source": [
    "# HW2.3: Shopping Cart Analysis"
   ]
  },
  {
   "cell_type": "markdown",
   "metadata": {},
   "source": [
    "Product Recommendations: The action or practice of selling additional products or services \n",
    "to existing customers is called cross-selling. Giving product recommendation is \n",
    "one of the examples of cross-selling that are frequently used by online retailers. \n",
    "One simple method to give product recommendations is to recommend products that are frequently\n",
    "browsed together by the customers.\n",
    "  \n",
    "For this homework use the online browsing behavior dataset located at: \n",
    "\n",
    "       https://www.dropbox.com/s/zlfyiwa70poqg74/ProductPurchaseData.txt?dl=0\n",
    "\n",
    "Each line in this dataset represents a browsing session of a customer. \n",
    "On each line, each string of 8 characters represents the id of an item browsed during that session. \n",
    "The items are separated by spaces.\n",
    "\n",
    "Here are the first few lines of the ProductPurchaseData \n",
    "FRO11987 ELE17451 ELE89019 SNA90258 GRO99222 \n",
    "GRO99222 GRO12298 FRO12685 ELE91550 SNA11465 ELE26917 ELE52966 FRO90334 SNA30755 ELE17451 FRO84225 SNA80192 \n",
    "ELE17451 GRO73461 DAI22896 SNA99873 FRO86643 \n",
    "ELE17451 ELE37798 FRO86643 GRO56989 ELE23393 SNA11465 \n",
    "ELE17451 SNA69641 FRO86643 FRO78087 SNA11465 GRO39357 ELE28573 ELE11375 DAI54444 \n",
    "\n",
    "\n",
    "Do some exploratory data analysis of this dataset guided by the following questions:. \n",
    "\n",
    "How many unique items are available from this supplier?\n",
    "\n",
    "Using a single reducer: Report your findings: such as number of unique products; largest basket; report the top 50 most frequently purchased items,  their frequency,   (break ties by sorting the products alphabetical order) etc. using Hadoop Map-Reduce. \n",
    "\n",
    "2.3.1 OPTIONAL \n",
    "Using 2 reducers:  Report your findings such as number of unique products; largest basket; report the top 50 most frequently purchased items,  their frequency,  and their frequency (break ties by sorting the products alphabetical order) etc. using Hadoop Map-Reduce. "
   ]
  },
  {
   "cell_type": "code",
   "execution_count": 138,
   "metadata": {
    "collapsed": false
   },
   "outputs": [
    {
     "name": "stdout",
     "output_type": "stream",
     "text": [
      "  % Total    % Received % Xferd  Average Speed   Time    Time     Time  Current\n",
      "                                 Dload  Upload   Total   Spent    Left  Speed\n",
      "  0     0    0     0    0     0      0      0 --:--:--  0:00:02 --:--:--     0\n",
      "100 3377k  100 3377k    0     0   526k      0  0:00:06  0:00:06 --:--:-- 1265k\n"
     ]
    }
   ],
   "source": [
    "!curl -L https://www.dropbox.com/s/zlfyiwa70poqg74/ProductPurchaseData.txt?dl=0 > browse_data.txt"
   ]
  },
  {
   "cell_type": "code",
   "execution_count": 139,
   "metadata": {
    "collapsed": false
   },
   "outputs": [
    {
     "name": "stdout",
     "output_type": "stream",
     "text": [
      "FRO11987 ELE17451 ELE89019 SNA90258 GRO99222 \r\n",
      "GRO99222 GRO12298 FRO12685 ELE91550 SNA11465 ELE26917 ELE52966 FRO90334 SNA30755 ELE17451 FRO84225 SNA80192 \r\n",
      "ELE17451 GRO73461 DAI22896 SNA99873 FRO86643 \r\n",
      "ELE17451 ELE37798 FRO86643 GRO56989 ELE23393 SNA11465 \r\n",
      "ELE17451 SNA69641 FRO86643 FRO78087 SNA11465 GRO39357 ELE28573 ELE11375 DAI54444 \r\n",
      "ELE17451 GRO73461 DAI22896 SNA99873 FRO18919 DAI50921 SNA80192 GRO75578 \r\n",
      "ELE17451 ELE59935 FRO18919 ELE23393 SNA80192 SNA85662 SNA91554 DAI22177 \r\n",
      "ELE17451 SNA69641 FRO18919 SNA90258 ELE28573 ELE11375 DAI14125 FRO78087 \r\n",
      "ELE17451 GRO73461 DAI22896 SNA80192 SNA85662 SNA90258 DAI46755 FRO81176 ELE66810 DAI49199 DAI91535 GRO94758 ELE94711 DAI22177 \r\n",
      "ELE17451 SNA69641 DAI91535 GRO94758 GRO99222 FRO76833 FRO81176 SNA80192 DAI54690 ELE37798 GRO56989 \r\n"
     ]
    }
   ],
   "source": [
    "!head browse_data.txt"
   ]
  },
  {
   "cell_type": "code",
   "execution_count": 198,
   "metadata": {
    "collapsed": false
   },
   "outputs": [
    {
     "name": "stdout",
     "output_type": "stream",
     "text": [
      "Overwriting basket.py\n"
     ]
    }
   ],
   "source": [
    "%%writefile basket.py\n",
    "from mrjob.job import MRJob\n",
    "from mrjob.step import MRStep\n",
    " \n",
    "class MRWordFreqCount(MRJob):\n",
    "        \n",
    "    def mapper(self, word, line):\n",
    "        line = line.strip().split(\" \")\n",
    "        for word in line:\n",
    "            yield word.lower(), 1\n",
    "\n",
    "    def combiner(self, word, counts):\n",
    "        yield word, sum(counts)\n",
    "\n",
    "    def reducer(self, word, counts):\n",
    "        yield word, sum(counts)\n",
    "    \n",
    "    def mapper_new(self, word, counts):\n",
    "        yield None, (counts, word)\n",
    " \n",
    "    def reducer_new(self, word, counts):\n",
    "        master_list = []\n",
    "        \n",
    "        for count, word in counts:\n",
    "            master_list.append((count, word))\n",
    "        print len(master_list)\n",
    "            \n",
    "     \n",
    "    def steps(self):\n",
    "        return [\n",
    "            MRStep(mapper=self.mapper,\n",
    "                  combiner=self.combiner,\n",
    "                  reducer=self.reducer),\n",
    "            MRStep(mapper=self.mapper_new,\n",
    "                  reducer=self.reducer_new) ]    \n",
    "\n",
    "if __name__ == '__main__':\n",
    "    MRWordFreqCount.run()"
   ]
  },
  {
   "cell_type": "code",
   "execution_count": 199,
   "metadata": {
    "collapsed": false
   },
   "outputs": [
    {
     "name": "stdout",
     "output_type": "stream",
     "text": [
      "No configs found; falling back on auto-configuration\n",
      "Creating temp directory /var/folders/08/y_lkzc2n2973stvw32_hzr4h13s_fb/T/basket.z013nx1.20160707.160901.656141\n",
      "Running step 1 of 2...\n",
      "Running step 2 of 2...\n",
      "12592\n",
      "Streaming final output from /var/folders/08/y_lkzc2n2973stvw32_hzr4h13s_fb/T/basket.z013nx1.20160707.160901.656141/output...\n",
      "Removing temp directory /var/folders/08/y_lkzc2n2973stvw32_hzr4h13s_fb/T/basket.z013nx1.20160707.160901.656141...\n"
     ]
    }
   ],
   "source": [
    "!python basket.py browse_data.txt"
   ]
  },
  {
   "cell_type": "markdown",
   "metadata": {},
   "source": [
    "12,592 unique items"
   ]
  },
  {
   "cell_type": "markdown",
   "metadata": {},
   "source": [
    "Using a single reducer: Report your findings: such as number of unique products; largest basket; report the top 50 most frequently purchased items,  their frequency,   (break ties by sorting the products alphabetical order) etc. using Hadoop Map-Reduce. "
   ]
  },
  {
   "cell_type": "code",
   "execution_count": 196,
   "metadata": {
    "collapsed": false
   },
   "outputs": [
    {
     "name": "stdout",
     "output_type": "stream",
     "text": [
      "Overwriting basket2.py\n"
     ]
    }
   ],
   "source": [
    "%%writefile basket2.py\n",
    "from mrjob.job import MRJob\n",
    "from mrjob.step import MRStep\n",
    " \n",
    "class MRWordFreqCount(MRJob):\n",
    "    def mapper(self, word, line):\n",
    "        line = line.strip().split(\" \")\n",
    "        for word in line:\n",
    "            yield word.lower(), 1\n",
    "\n",
    "    def combiner(self, word, counts):\n",
    "        yield word, sum(counts)\n",
    "\n",
    "    def reducer(self, word, counts):\n",
    "        yield word, sum(counts)\n",
    "    \n",
    "    def mapper_new(self, word, counts):\n",
    "        yield None, (counts, word)\n",
    " \n",
    "    def reducer_new(self, word, counts):\n",
    "        master_list = []\n",
    "        topfifty = []\n",
    "        for count, word in counts:\n",
    "            master_list.append((count, word))\n",
    "            master_list.sort()\n",
    "            topfifty = master_list[-50:]\n",
    "            topfifty.sort(reverse=True)\n",
    "        print len(master_list)\n",
    "        \n",
    "        for count, word in topfifty:\n",
    "            yield None, (count, word)\n",
    "\n",
    "    def steps(self):\n",
    "        return [\n",
    "            MRStep(mapper=self.mapper,\n",
    "                  combiner=self.combiner,\n",
    "                  reducer=self.reducer),\n",
    "            MRStep(mapper=self.mapper_new,\n",
    "                  reducer=self.reducer_new) ]    \n",
    "\n",
    "if __name__ == '__main__':\n",
    "    MRWordFreqCount.run()"
   ]
  },
  {
   "cell_type": "code",
   "execution_count": 197,
   "metadata": {
    "collapsed": false
   },
   "outputs": [
    {
     "name": "stdout",
     "output_type": "stream",
     "text": [
      "No configs found; falling back on auto-configuration\n",
      "Creating temp directory /var/folders/08/y_lkzc2n2973stvw32_hzr4h13s_fb/T/basket2.z013nx1.20160707.155342.653907\n",
      "Running step 1 of 2...\n",
      "Running step 2 of 2...\n",
      "12592\n",
      "Streaming final output from /var/folders/08/y_lkzc2n2973stvw32_hzr4h13s_fb/T/basket2.z013nx1.20160707.155342.653907/output...\n",
      "null\t[6667, \"dai62779\"]\n",
      "null\t[3881, \"fro40251\"]\n",
      "null\t[3875, \"ele17451\"]\n",
      "null\t[3602, \"gro73461\"]\n",
      "null\t[3044, \"sna80324\"]\n",
      "null\t[2851, \"ele32164\"]\n",
      "null\t[2736, \"dai75645\"]\n",
      "null\t[2455, \"sna45677\"]\n",
      "null\t[2330, \"fro31317\"]\n",
      "null\t[2293, \"dai85309\"]\n",
      "null\t[2292, \"ele26917\"]\n",
      "null\t[2233, \"fro80039\"]\n",
      "null\t[2115, \"gro21487\"]\n",
      "null\t[2083, \"sna99873\"]\n",
      "null\t[2004, \"gro59710\"]\n",
      "null\t[1920, \"gro71621\"]\n",
      "null\t[1918, \"fro85978\"]\n",
      "null\t[1840, \"gro30386\"]\n",
      "null\t[1816, \"ele74009\"]\n",
      "null\t[1784, \"gro56726\"]\n",
      "null\t[1773, \"dai63921\"]\n",
      "null\t[1756, \"gro46854\"]\n",
      "null\t[1713, \"ele66600\"]\n",
      "null\t[1712, \"dai83733\"]\n",
      "null\t[1702, \"fro32293\"]\n",
      "null\t[1697, \"ele66810\"]\n",
      "null\t[1646, \"sna55762\"]\n",
      "null\t[1627, \"dai22177\"]\n",
      "null\t[1531, \"fro78087\"]\n",
      "null\t[1516, \"ele99737\"]\n",
      "null\t[1489, \"gro94758\"]\n",
      "null\t[1489, \"ele34057\"]\n",
      "null\t[1436, \"fro35904\"]\n",
      "null\t[1420, \"fro53271\"]\n",
      "null\t[1407, \"sna93860\"]\n",
      "null\t[1390, \"sna90094\"]\n",
      "null\t[1352, \"gro38814\"]\n",
      "null\t[1345, \"ele56788\"]\n",
      "null\t[1321, \"gro61133\"]\n",
      "null\t[1316, \"ele74482\"]\n",
      "null\t[1316, \"dai88807\"]\n",
      "null\t[1311, \"ele59935\"]\n",
      "null\t[1295, \"sna96271\"]\n",
      "null\t[1290, \"dai43223\"]\n",
      "null\t[1289, \"ele91337\"]\n",
      "null\t[1275, \"gro15017\"]\n",
      "null\t[1261, \"dai31081\"]\n",
      "null\t[1220, \"gro81087\"]\n",
      "null\t[1219, \"dai22896\"]\n",
      "null\t[1214, \"gro85051\"]\n",
      "Removing temp directory /var/folders/08/y_lkzc2n2973stvw32_hzr4h13s_fb/T/basket2.z013nx1.20160707.155342.653907...\n"
     ]
    }
   ],
   "source": [
    "!python basket2.py browse_data.txt"
   ]
  },
  {
   "cell_type": "code",
   "execution_count": 208,
   "metadata": {
    "collapsed": false
   },
   "outputs": [
    {
     "name": "stdout",
     "output_type": "stream",
     "text": [
      "Overwriting basket3.py\n"
     ]
    }
   ],
   "source": [
    "%%writefile basket3.py\n",
    "from mrjob.job import MRJob\n",
    "from mrjob.step import MRStep\n",
    " \n",
    "class MRWordFreqCount(MRJob):\n",
    "\n",
    "    def mapper(self, word, line):\n",
    "        line = line.strip().split(\" \")\n",
    "        yield None, len(line)\n",
    "\n",
    "    \n",
    "    def reducer(self, word, counts):\n",
    "        basketlist = []\n",
    "        for length in counts:\n",
    "            basketlist.append(length)\n",
    "            basketlist.sort()\n",
    "            basketlist = basketlist[-1:]\n",
    "        print basketlist       \n",
    "\n",
    "\"\"\"\n",
    "    def steps(self):\n",
    "        return [\n",
    "            MRStep(mapper=self.mapper,\n",
    "                  combiner=self.combiner,\n",
    "                  reducer=self.reducer),\n",
    "            MRStep(mapper=self.mapper_new,\n",
    "                  reducer=self.reducer_new) ]    \n",
    "\"\"\"\n",
    "if __name__ == '__main__':\n",
    "    MRWordFreqCount.run()"
   ]
  },
  {
   "cell_type": "code",
   "execution_count": 209,
   "metadata": {
    "collapsed": false
   },
   "outputs": [
    {
     "name": "stdout",
     "output_type": "stream",
     "text": [
      "No configs found; falling back on auto-configuration\n",
      "Creating temp directory /var/folders/08/y_lkzc2n2973stvw32_hzr4h13s_fb/T/basket3.z013nx1.20160707.161944.776493\n",
      "Running step 1 of 1...\n",
      "[37]\n",
      "Streaming final output from /var/folders/08/y_lkzc2n2973stvw32_hzr4h13s_fb/T/basket3.z013nx1.20160707.161944.776493/output...\n",
      "Removing temp directory /var/folders/08/y_lkzc2n2973stvw32_hzr4h13s_fb/T/basket3.z013nx1.20160707.161944.776493...\n"
     ]
    }
   ],
   "source": [
    "!python basket3.py browse_data.txt"
   ]
  },
  {
   "cell_type": "markdown",
   "metadata": {},
   "source": [
    "Largest basket = 37, Unique Items = 12,592, Top 50 list see \"In [197]:\" above "
   ]
  },
  {
   "cell_type": "markdown",
   "metadata": {},
   "source": [
    "HW2.4. (Computationally prohibitive but then again Hadoop can handle this) Pairs\n",
    "\n",
    "From a data mining perspective (and the aPriori algorihtm in particular), Support and Confidence are defined as follows:\n",
    "\n",
    "       SUPPORT\n",
    "       In data mining, the support value of X (where X is a collection of cooccurring items sometimes referred to as \n",
    "       an item-set. E.g., a basket or subset of a basket) with respect to T  (a transaction database where each \n",
    "       row is a transaction such as a basket of items that have been purchased)  is defined as the proportion \n",
    "       of transactions in the  database which contains  the item-set X. (a relative frequency of sorts) \n",
    "\n",
    "       CONFIDENCE \n",
    "       The confidence value of a rule, X ==>  Y (where X is a collection of cooccurring items and Y is generally \n",
    "       a single item. E.g., If Diapers and Beer then Cigars were also purchased), with respect to a set of transactions T, is the \n",
    "       proportion of the transactions that contains X which also contains Y. (Think of it as  tgePr(Y|X) )\n",
    "\n",
    "       The pairs/stripes algorithm returns cooccurrence information that can be used directly to  calculate the confidence and support. \n",
    "       Note that confidence for pair X ==>  Y will  differ from the relative frequency that results from stripes when X occurs by itself in transactions.\n",
    "\n",
    "\n",
    "Suppose we want to recommend new products to the customer based on the products they\n",
    "have already browsed on the online website. Write a map-reduce program \n",
    "to find products which are frequently browsed together. Fix the support count (cooccurence count) to s = 100 \n",
    "(i.e. product pairs need to occur together at least 100 times to be considered frequent) \n",
    "and find pairs of items (sometimes referred to itemsets of size 2 in association rule mining) that have a support count of 100 or more.\n",
    "\n",
    "List the top 50 product pairs with corresponding support count (aka frequency), and relative frequency or support (number of records where they coccur, the number of records where they coccur/the number of baskets in the dataset)  in decreasing order of support  for frequent (100>count) itemsets of size 2. \n",
    "\n",
    "Use the Pairs pattern  to  extract these frequent itemsets of size 2. Free free to use combiners if they bring value. Instrument your code with counters for count the number of times your mapper, combiner and reducers are called.  \n",
    "\n",
    "Please output records of the following form for the top 50 pairs (itemsets of size 2): \n",
    "\n",
    "      item1, item2, support count, support  (OPTIONAL Feel free to add in confidence level also)\n",
    "\n",
    "\n",
    "\n",
    "Fix the ordering of the pairs lexicographically (left to right), \n",
    "and break ties in support (between pairs, if any exist) \n",
    "by taking the first ones in lexicographically increasing order. \n",
    "\n",
    "Report  the compute time for the Pairs job. Describe the computational setup used (E.g., single computer; dual core; linux, number of mappers, number of reducers)\n",
    "Instrument your mapper, combiner, and reducer to count how many times each is called using Counters and report these counts.\n"
   ]
  },
  {
   "cell_type": "code",
   "execution_count": 5,
   "metadata": {
    "collapsed": true
   },
   "outputs": [],
   "source": [
    "##Answer"
   ]
  },
  {
   "cell_type": "code",
   "execution_count": null,
   "metadata": {
    "collapsed": true
   },
   "outputs": [],
   "source": [
    "%time !python BasketPairs.py Data/ProductPurchaseData.txt --top_n 50 --support_count 100"
   ]
  },
  {
   "cell_type": "markdown",
   "metadata": {},
   "source": [
    "HW2.5: Stripes\n",
    "Repeat 2.4 using the stripes design pattern for finding cooccuring pairs (and out.\n",
    "\n",
    "Report  the compute times for stripes job versus the Pairs job. Describe the computational setup used (E.g., single computer; dual core; linux, number of mappers, number of reducers)\n",
    "\n",
    "Instrument your mapper, combiner, and reducer to count how many times each is called using Counters and report these counts. Discuss the differences in these counts between the Pairs and Stripes jobs"
   ]
  },
  {
   "cell_type": "code",
   "execution_count": 6,
   "metadata": {
    "collapsed": true
   },
   "outputs": [],
   "source": [
    "##Answer"
   ]
  },
  {
   "cell_type": "code",
   "execution_count": null,
   "metadata": {
    "collapsed": true
   },
   "outputs": [],
   "source": []
  }
 ],
 "metadata": {
  "kernelspec": {
   "display_name": "Python 2",
   "language": "python",
   "name": "python2"
  },
  "language_info": {
   "codemirror_mode": {
    "name": "ipython",
    "version": 2
   },
   "file_extension": ".py",
   "mimetype": "text/x-python",
   "name": "python",
   "nbconvert_exporter": "python",
   "pygments_lexer": "ipython2",
   "version": "2.7.11"
  }
 },
 "nbformat": 4,
 "nbformat_minor": 0
}
